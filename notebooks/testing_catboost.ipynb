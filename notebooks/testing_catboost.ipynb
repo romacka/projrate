{
  "nbformat": 4,
  "nbformat_minor": 0,
  "metadata": {
    "colab": {
      "provenance": []
    },
    "kernelspec": {
      "name": "python3",
      "display_name": "Python 3"
    },
    "language_info": {
      "name": "python"
    }
  },
  "cells": [
    {
      "cell_type": "code",
      "source": [
        "!pip install pymongo\n",
        "!pip install catboost"
      ],
      "metadata": {
        "colab": {
          "base_uri": "https://localhost:8080/"
        },
        "id": "1ts9HRZB2HF9",
        "outputId": "091929d4-b300-435f-d711-1eb7bc3ba87f"
      },
      "execution_count": 3,
      "outputs": [
        {
          "output_type": "stream",
          "name": "stdout",
          "text": [
            "Successfully installed catboost-1.1.1\n"
          ]
        }
      ]
    },
    {
      "cell_type": "code",
      "source": [
        "from functools import reduce\n",
        "import copy\n",
        "from sklearn.preprocessing import StandardScaler\n",
        "import pandas as pd\n",
        "from tqdm import tqdm\n",
        "from catboost import CatBoostRegressor\n",
        "import matplotlib.pyplot as plt\n",
        "import pickle\n",
        "pd.options.mode.chained_assignment = None\n",
        "import numpy as np\n",
        "import os"
      ],
      "metadata": {
        "id": "r7vqXpPV2JHd"
      },
      "execution_count": 109,
      "outputs": []
    },
    {
      "cell_type": "markdown",
      "source": [
        "Проверим нашу модель на всех студентах, которые пользуются гитлабом для ведения проекта"
      ],
      "metadata": {
        "id": "nF_gJXJK0iin"
      }
    },
    {
      "cell_type": "code",
      "execution_count": 1,
      "metadata": {
        "id": "quXqrCC50fmb"
      },
      "outputs": [],
      "source": [
        "connection = {'host': '***',\n",
        "              'username': '***',\n",
        "              'password': '***'}\n"
      ]
    },
    {
      "cell_type": "code",
      "source": [
        "#класс для подключения к базе данных\n",
        "from pymongo import MongoClient\n",
        "\n",
        "class FootprintClient:\n",
        "    \n",
        "    def __init__(self, connection: dict):\n",
        "        \n",
        "        self.host = connection['host']\n",
        "        self.username = connection['username']\n",
        "        self.password = connection['password']\n",
        "    \n",
        "    def gitlab_connect(self, db):\n",
        "\n",
        "        client = MongoClient(self.host,\n",
        "                          username=self.username,\n",
        "                          password=self.password)\n",
        "        conn = client[db]\n",
        "        return conn\n"
      ],
      "metadata": {
        "id": "zvpYuBZM2LSI"
      },
      "execution_count": 45,
      "outputs": []
    },
    {
      "cell_type": "code",
      "source": [
        "#класс для создания датасета с признаками по гитлабу\n",
        "class GitlabPrepocessor(FootprintClient):\n",
        "    \n",
        "    def __init__(self, connection):\n",
        "        super().__init__(connection)\n",
        "        self.gitlab = self._query_gitlab_projects()\n",
        "    def _query_gitlab_projects(self, filtr={}, query={}):\n",
        "        db = self.gitlab_connect('app')\n",
        "        collection = db.git\n",
        "        return list(collection.find(filtr, query))\n",
        "    \n",
        "    def get_feature_dataset(self):\n",
        "        df = pd.DataFrame(self.gitlab)\n",
        "        columns=['id', 'namespaceName', \n",
        "                'activeMonthCount', \n",
        "                'additionsSum', 'deletionsSum']\n",
        "        df_features = pd.DataFrame(columns=columns)\n",
        "        \n",
        "        for i in tqdm(range(len(df))):\n",
        "            if pd.json_normalize(df.iloc[i]['projects']).shape[0] == 0 or pd.json_normalize(df.iloc[i]['projects']).shape[\n",
        "                1] == 0:\n",
        "                continue\n",
        "            id = df.iloc[i]['id']\n",
        "            person_projects = pd.json_normalize(df.iloc[i]['projects'])[['namespace.name', 'commits']]\n",
        "            person_projects = person_projects[~person_projects['namespace.name'].isnull()]\n",
        "            person_projects = person_projects[person_projects['namespace.name'].apply(\n",
        "                    lambda x: x[0].isdigit()\n",
        "                              and x[-1].isalpha())]\n",
        "            for i in range(person_projects.shape[0]):\n",
        "                commits_df = pd.json_normalize(person_projects.iloc[i]['commits'])\n",
        "                if commits_df.shape[0] == 0:\n",
        "                    continue\n",
        "                commits_df['committed_date'] = pd.to_datetime(commits_df['committed_date'], unit='ms')\n",
        "                namespace_name = person_projects.iloc[i]['namespace.name']\n",
        "                # добавление в ячейку датафрейма множества, а не сразу длины, для дальнейшего его расширения\n",
        "                active_month_count = set(commits_df['committed_date'].map(lambda x: 100 * x.year + x.month))\n",
        "                additions_sum = commits_df['stats.additions'].sum()\n",
        "                deletions_sum = commits_df['stats.deletions'].sum()\n",
        "\n",
        "                persons_id = df_features[df_features['id'] == id]['id']\n",
        "\n",
        "                if (len(active_month_count) + additions_sum + deletions_sum != 0) and (\n",
        "                        namespace_name not in persons_id.unique()):\n",
        "                    new_person = {'id': id,\n",
        "                                  'namespaceName': namespace_name,\n",
        "                                  'activeMonthCount': active_month_count,\n",
        "                                  'additionsSum': additions_sum,\n",
        "                                  'deletionsSum': deletions_sum}\n",
        "                    df_features = pd.concat([df_features, pd.DataFrame([new_person.values()], columns=df_features.columns)], ignore_index=True)\n",
        "\n",
        "                elif (len(active_month_count) + additions_sum + deletions_sum != 0) and (\n",
        "                        namespace_name in persons_id.unique()):\n",
        "                    # если уже встречалось - дополняем, а не добавляем новый, а для множеств ищем объединения\n",
        "                    df_features.loc[\n",
        "                        df_features[(df_features['id'] == id) & (df_features['namespaceName'] == namespace_name)].index[\n",
        "                            0], 'activeMonthCount'] |= active_month_count\n",
        "                    df_features.loc[\n",
        "                        df_features[(df_features['id'] == id) & (df_features['namespaceName'] == namespace_name)].index[\n",
        "                            0], 'additionsSum'] += additions_sum\n",
        "                    df_features.loc[\n",
        "                        df_features[(df_features['id'] == id) & (df_features['namespaceName'] == namespace_name)].index[\n",
        "                            0], 'deletionsSum'] += deletions_sum\n",
        "        df_features['activeMonthCount'] = df_features['activeMonthCount'].apply(lambda x: len(x))        \n",
        "        df_features = df_features.astype({\n",
        "                    'activeMonthCount': 'int32',\n",
        "                    'additionsSum': 'int32',\n",
        "                    'deletionsSum': 'int32'})\n",
        "        return df_features\n"
      ],
      "metadata": {
        "id": "XrNan8m92cAZ"
      },
      "execution_count": 46,
      "outputs": []
    },
    {
      "cell_type": "code",
      "execution_count": 11,
      "metadata": {
        "id": "K7ds3u_tC94y"
      },
      "outputs": [],
      "source": [
        "#класс для подсчета проектного рейтинга\n",
        "class ProjectRateCalculator:\n",
        "    \n",
        "    def __init__(self, df, model_path, scaler_path):\n",
        "        self.id = df['id']\n",
        "        self.scaler = self._load_scaler(scaler_path)\n",
        "        self.df = self.scaler.transform(df.drop(['id', 'namespaceName'], axis=1))\n",
        "        self.model = self._load_model(model_path)\n",
        "    def _load_model(self, model_path):\n",
        "        # with open(model_path, 'rb') as f:\n",
        "        #     model = pickle.load(f)\n",
        "        # return model\n",
        "        model = CatBoostRegressor()\n",
        "        return model.load_model(model_path)\n",
        "    def _load_scaler(self, scaler_path):\n",
        "        with open(scaler_path, 'rb') as f:\n",
        "            scaler = pickle.load(f)\n",
        "        return scaler\n",
        "\n",
        "    def calculate_project_rate(self):\n",
        "\n",
        "        df_project_rate = pd.DataFrame(np.clip(self.model.predict(self.df), 0, 10), columns=['rate'])\n",
        "        df_project_rate.dropna(inplace=True)\n",
        "        df_project_rate.reset_index(drop=True, inplace=True)\n",
        "        df_project_rate['percentile_rate'] = ((df_project_rate['rate'].rank(method='max', pct=True)*100)-100).abs()\n",
        "        df_project_rate['percentile_rank'] = (df_project_rate['rate'].rank(method='max')-len(df_project_rate)).abs()+1\n",
        "        return df_project_rate\n",
        "\n",
        "\n"
      ]
    },
    {
      "cell_type": "code",
      "source": [
        "gp = GitlabPrepocessor(connection)"
      ],
      "metadata": {
        "id": "1r3PDdDvQ3va"
      },
      "execution_count": 8,
      "outputs": []
    },
    {
      "cell_type": "code",
      "source": [
        "df = gp.get_feature_dataset()"
      ],
      "metadata": {
        "colab": {
          "base_uri": "https://localhost:8080/"
        },
        "id": "VPgM937rRV2g",
        "outputId": "585b8978-0f61-4056-9ba3-0f45f9a14de6"
      },
      "execution_count": 9,
      "outputs": [
        {
          "output_type": "stream",
          "name": "stderr",
          "text": [
            "100%|██████████| 3402/3402 [01:01<00:00, 55.45it/s] \n"
          ]
        }
      ]
    },
    {
      "cell_type": "code",
      "source": [
        "df"
      ],
      "metadata": {
        "colab": {
          "base_uri": "https://localhost:8080/",
          "height": 411
        },
        "id": "Ji4H1jrUDXnX",
        "outputId": "e2ab089e-97a7-4214-ec4d-45fed5930f85"
      },
      "execution_count": 47,
      "outputs": [
        {
          "output_type": "execute_result",
          "data": {
            "text/plain": [
              "        id                                      namespaceName  \\\n",
              "0      160  19290 Разработка мобильного приложения для инт...   \n",
              "1      153  19121 Разработка алгоритмов распознавания текс...   \n",
              "2      153  19121 Разработка алгоритмов распознавания текс...   \n",
              "3      152  19121 Разработка алгоритмов распознавания текс...   \n",
              "4      152  19121 Разработка алгоритмов распознавания текс...   \n",
              "...    ...                                                ...   \n",
              "1639  3431  1351 Построение системы оценки качества деятел...   \n",
              "1640  3453  1327 Редукция численных методов для построения...   \n",
              "1641  3456            1356 Exo world Казуальная Telegram игра   \n",
              "1642  3531          1246 Bear head studio Маркетплейс ассетов   \n",
              "1643  3584                           19109 Цифровое портфолио   \n",
              "\n",
              "      activeMonthCount  additionsSum  deletionsSum  \n",
              "0                    2         13761          6139  \n",
              "1                    1           305           101  \n",
              "2                    1           305           101  \n",
              "3                    1            37             0  \n",
              "4                    1            37             0  \n",
              "...                ...           ...           ...  \n",
              "1639                 1            92             0  \n",
              "1640                 1             0             0  \n",
              "1641                 1            74            67  \n",
              "1642                 1            40             0  \n",
              "1643                 1             4             0  \n",
              "\n",
              "[1644 rows x 5 columns]"
            ],
            "text/html": [
              "\n",
              "  <div id=\"df-5fdba273-f3c5-41a8-95fa-97d7bad5283a\">\n",
              "    <div class=\"colab-df-container\">\n",
              "      <div>\n",
              "<style scoped>\n",
              "    .dataframe tbody tr th:only-of-type {\n",
              "        vertical-align: middle;\n",
              "    }\n",
              "\n",
              "    .dataframe tbody tr th {\n",
              "        vertical-align: top;\n",
              "    }\n",
              "\n",
              "    .dataframe thead th {\n",
              "        text-align: right;\n",
              "    }\n",
              "</style>\n",
              "<table border=\"1\" class=\"dataframe\">\n",
              "  <thead>\n",
              "    <tr style=\"text-align: right;\">\n",
              "      <th></th>\n",
              "      <th>id</th>\n",
              "      <th>namespaceName</th>\n",
              "      <th>activeMonthCount</th>\n",
              "      <th>additionsSum</th>\n",
              "      <th>deletionsSum</th>\n",
              "    </tr>\n",
              "  </thead>\n",
              "  <tbody>\n",
              "    <tr>\n",
              "      <th>0</th>\n",
              "      <td>160</td>\n",
              "      <td>19290 Разработка мобильного приложения для инт...</td>\n",
              "      <td>2</td>\n",
              "      <td>13761</td>\n",
              "      <td>6139</td>\n",
              "    </tr>\n",
              "    <tr>\n",
              "      <th>1</th>\n",
              "      <td>153</td>\n",
              "      <td>19121 Разработка алгоритмов распознавания текс...</td>\n",
              "      <td>1</td>\n",
              "      <td>305</td>\n",
              "      <td>101</td>\n",
              "    </tr>\n",
              "    <tr>\n",
              "      <th>2</th>\n",
              "      <td>153</td>\n",
              "      <td>19121 Разработка алгоритмов распознавания текс...</td>\n",
              "      <td>1</td>\n",
              "      <td>305</td>\n",
              "      <td>101</td>\n",
              "    </tr>\n",
              "    <tr>\n",
              "      <th>3</th>\n",
              "      <td>152</td>\n",
              "      <td>19121 Разработка алгоритмов распознавания текс...</td>\n",
              "      <td>1</td>\n",
              "      <td>37</td>\n",
              "      <td>0</td>\n",
              "    </tr>\n",
              "    <tr>\n",
              "      <th>4</th>\n",
              "      <td>152</td>\n",
              "      <td>19121 Разработка алгоритмов распознавания текс...</td>\n",
              "      <td>1</td>\n",
              "      <td>37</td>\n",
              "      <td>0</td>\n",
              "    </tr>\n",
              "    <tr>\n",
              "      <th>...</th>\n",
              "      <td>...</td>\n",
              "      <td>...</td>\n",
              "      <td>...</td>\n",
              "      <td>...</td>\n",
              "      <td>...</td>\n",
              "    </tr>\n",
              "    <tr>\n",
              "      <th>1639</th>\n",
              "      <td>3431</td>\n",
              "      <td>1351 Построение системы оценки качества деятел...</td>\n",
              "      <td>1</td>\n",
              "      <td>92</td>\n",
              "      <td>0</td>\n",
              "    </tr>\n",
              "    <tr>\n",
              "      <th>1640</th>\n",
              "      <td>3453</td>\n",
              "      <td>1327 Редукция численных методов для построения...</td>\n",
              "      <td>1</td>\n",
              "      <td>0</td>\n",
              "      <td>0</td>\n",
              "    </tr>\n",
              "    <tr>\n",
              "      <th>1641</th>\n",
              "      <td>3456</td>\n",
              "      <td>1356 Exo world Казуальная Telegram игра</td>\n",
              "      <td>1</td>\n",
              "      <td>74</td>\n",
              "      <td>67</td>\n",
              "    </tr>\n",
              "    <tr>\n",
              "      <th>1642</th>\n",
              "      <td>3531</td>\n",
              "      <td>1246 Bear head studio Маркетплейс ассетов</td>\n",
              "      <td>1</td>\n",
              "      <td>40</td>\n",
              "      <td>0</td>\n",
              "    </tr>\n",
              "    <tr>\n",
              "      <th>1643</th>\n",
              "      <td>3584</td>\n",
              "      <td>19109 Цифровое портфолио</td>\n",
              "      <td>1</td>\n",
              "      <td>4</td>\n",
              "      <td>0</td>\n",
              "    </tr>\n",
              "  </tbody>\n",
              "</table>\n",
              "<p>1644 rows × 5 columns</p>\n",
              "</div>\n",
              "      <button class=\"colab-df-convert\" onclick=\"convertToInteractive('df-5fdba273-f3c5-41a8-95fa-97d7bad5283a')\"\n",
              "              title=\"Convert this dataframe to an interactive table.\"\n",
              "              style=\"display:none;\">\n",
              "        \n",
              "  <svg xmlns=\"http://www.w3.org/2000/svg\" height=\"24px\"viewBox=\"0 0 24 24\"\n",
              "       width=\"24px\">\n",
              "    <path d=\"M0 0h24v24H0V0z\" fill=\"none\"/>\n",
              "    <path d=\"M18.56 5.44l.94 2.06.94-2.06 2.06-.94-2.06-.94-.94-2.06-.94 2.06-2.06.94zm-11 1L8.5 8.5l.94-2.06 2.06-.94-2.06-.94L8.5 2.5l-.94 2.06-2.06.94zm10 10l.94 2.06.94-2.06 2.06-.94-2.06-.94-.94-2.06-.94 2.06-2.06.94z\"/><path d=\"M17.41 7.96l-1.37-1.37c-.4-.4-.92-.59-1.43-.59-.52 0-1.04.2-1.43.59L10.3 9.45l-7.72 7.72c-.78.78-.78 2.05 0 2.83L4 21.41c.39.39.9.59 1.41.59.51 0 1.02-.2 1.41-.59l7.78-7.78 2.81-2.81c.8-.78.8-2.07 0-2.86zM5.41 20L4 18.59l7.72-7.72 1.47 1.35L5.41 20z\"/>\n",
              "  </svg>\n",
              "      </button>\n",
              "      \n",
              "  <style>\n",
              "    .colab-df-container {\n",
              "      display:flex;\n",
              "      flex-wrap:wrap;\n",
              "      gap: 12px;\n",
              "    }\n",
              "\n",
              "    .colab-df-convert {\n",
              "      background-color: #E8F0FE;\n",
              "      border: none;\n",
              "      border-radius: 50%;\n",
              "      cursor: pointer;\n",
              "      display: none;\n",
              "      fill: #1967D2;\n",
              "      height: 32px;\n",
              "      padding: 0 0 0 0;\n",
              "      width: 32px;\n",
              "    }\n",
              "\n",
              "    .colab-df-convert:hover {\n",
              "      background-color: #E2EBFA;\n",
              "      box-shadow: 0px 1px 2px rgba(60, 64, 67, 0.3), 0px 1px 3px 1px rgba(60, 64, 67, 0.15);\n",
              "      fill: #174EA6;\n",
              "    }\n",
              "\n",
              "    [theme=dark] .colab-df-convert {\n",
              "      background-color: #3B4455;\n",
              "      fill: #D2E3FC;\n",
              "    }\n",
              "\n",
              "    [theme=dark] .colab-df-convert:hover {\n",
              "      background-color: #434B5C;\n",
              "      box-shadow: 0px 1px 3px 1px rgba(0, 0, 0, 0.15);\n",
              "      filter: drop-shadow(0px 1px 2px rgba(0, 0, 0, 0.3));\n",
              "      fill: #FFFFFF;\n",
              "    }\n",
              "  </style>\n",
              "\n",
              "      <script>\n",
              "        const buttonEl =\n",
              "          document.querySelector('#df-5fdba273-f3c5-41a8-95fa-97d7bad5283a button.colab-df-convert');\n",
              "        buttonEl.style.display =\n",
              "          google.colab.kernel.accessAllowed ? 'block' : 'none';\n",
              "\n",
              "        async function convertToInteractive(key) {\n",
              "          const element = document.querySelector('#df-5fdba273-f3c5-41a8-95fa-97d7bad5283a');\n",
              "          const dataTable =\n",
              "            await google.colab.kernel.invokeFunction('convertToInteractive',\n",
              "                                                     [key], {});\n",
              "          if (!dataTable) return;\n",
              "\n",
              "          const docLinkHtml = 'Like what you see? Visit the ' +\n",
              "            '<a target=\"_blank\" href=https://colab.research.google.com/notebooks/data_table.ipynb>data table notebook</a>'\n",
              "            + ' to learn more about interactive tables.';\n",
              "          element.innerHTML = '';\n",
              "          dataTable['output_type'] = 'display_data';\n",
              "          await google.colab.output.renderOutput(dataTable, element);\n",
              "          const docLink = document.createElement('div');\n",
              "          docLink.innerHTML = docLinkHtml;\n",
              "          element.appendChild(docLink);\n",
              "        }\n",
              "      </script>\n",
              "    </div>\n",
              "  </div>\n",
              "  "
            ]
          },
          "metadata": {},
          "execution_count": 47
        }
      ]
    },
    {
      "cell_type": "code",
      "source": [
        "model_path = '/content/drive/MyDrive/model/rating_model'\n",
        "scaler_path = '/content/drive/MyDrive/model/scaler.pkl'\n",
        "\n",
        "pr = ProjectRateCalculator(df, model_path, scaler_path)"
      ],
      "metadata": {
        "id": "r0oFMg8tRLa9"
      },
      "execution_count": 13,
      "outputs": []
    },
    {
      "cell_type": "code",
      "source": [
        "print(np.unique(pr.calculate_project_rate()['rate']).shape[0], len(pr.id))\n",
        "\n",
        "plt.hist(pr.calculate_project_rate()['rate']);"
      ],
      "metadata": {
        "colab": {
          "base_uri": "https://localhost:8080/",
          "height": 281
        },
        "id": "yxH_-pUH3c7Z",
        "outputId": "dcc8a2f5-5244-4791-b46b-61d3a89af1f8"
      },
      "execution_count": 110,
      "outputs": [
        {
          "output_type": "stream",
          "name": "stdout",
          "text": [
            "1105 1644\n"
          ]
        },
        {
          "output_type": "display_data",
          "data": {
            "text/plain": [
              "<Figure size 432x288 with 1 Axes>"
            ],
            "image/png": "[encoded data removed]"
          },
          "metadata": {
            "needs_background": "light"
          }
        }
      ]
    },
    {
      "cell_type": "markdown",
      "source": [
        "На графике выше изображена гистограмма распределения проектного рейтинга для всех студентов. Можем заметить, что результат мы получили, действительно, приемлемый. Проверим, смогла ли модель предсказывать оценки, которые похожи на оценки из генеральной совокупности оценок преподавателей. Для этого проведем сравнение двух средних, используя t-критерий\n",
        "\n"
      ],
      "metadata": {
        "id": "uDxWXgMMBd4L"
      }
    },
    {
      "cell_type": "markdown",
      "source": [
        "Загрузим оценки, проставленные преподавателями:"
      ],
      "metadata": {
        "id": "jPbeO6QALP9Y"
      }
    },
    {
      "cell_type": "code",
      "source": [
        "df_marks = pd.DataFrame(columns=['mark']) \n",
        "for table in os.listdir('/content/drive/MyDrive/bd_git/marks/'):\n",
        "  with open('/content/drive/MyDrive/bd_git/marks/' + table) as f:\n",
        "     df_marks = pd.concat([df_marks, pd.read_csv(f, sep=';')[['mark']]])\n"
      ],
      "metadata": {
        "id": "znpw4ZFkCZXf"
      },
      "execution_count": 111,
      "outputs": []
    },
    {
      "cell_type": "markdown",
      "source": [
        "Проверим, присутствуют ли пропущенные значения"
      ],
      "metadata": {
        "id": "R1OKoMolMJf1"
      }
    },
    {
      "cell_type": "code",
      "source": [
        "df_marks.isna().sum()"
      ],
      "metadata": {
        "colab": {
          "base_uri": "https://localhost:8080/"
        },
        "id": "hP04JXXoMJM6",
        "outputId": "3bacd3b2-c3ba-48d7-dd08-62b87838c4fd"
      },
      "execution_count": 136,
      "outputs": [
        {
          "output_type": "execute_result",
          "data": {
            "text/plain": [
              "mark    5\n",
              "dtype: int64"
            ]
          },
          "metadata": {},
          "execution_count": 136
        }
      ]
    },
    {
      "cell_type": "code",
      "source": [
        "df_marks = df_marks.dropna().astype('int64')"
      ],
      "metadata": {
        "id": "mxFp6pvJMleQ"
      },
      "execution_count": 142,
      "outputs": []
    },
    {
      "cell_type": "code",
      "source": [
        "real_mean = df_marks.mean()\n",
        "real_std = df_marks.std()\n",
        "real_n = len(df_marks)"
      ],
      "metadata": {
        "id": "2S4wpPxbOoka"
      },
      "execution_count": 151,
      "outputs": []
    },
    {
      "cell_type": "code",
      "source": [
        "pred_mean = pr.calculate_project_rate()['rate'].mean()\n",
        "pred_std = pr.calculate_project_rate()['rate'].std()\n",
        "pred_n = len(pr.calculate_project_rate()['rate'])"
      ],
      "metadata": {
        "id": "iuFgz0yQPIxq"
      },
      "execution_count": 153,
      "outputs": []
    },
    {
      "cell_type": "code",
      "source": [
        "print('M1 = ' + str(real_mean.values[0]))\n",
        "print('std1 = ' + str(real_std.values[0]))\n",
        "print('n1 = ' + str(real_n))"
      ],
      "metadata": {
        "colab": {
          "base_uri": "https://localhost:8080/"
        },
        "id": "JIM1axsEDFVL",
        "outputId": "83a4c76f-f4d8-4cf0-a89e-99dc1bbd1c58"
      },
      "execution_count": 157,
      "outputs": [
        {
          "output_type": "stream",
          "name": "stdout",
          "text": [
            "M1 = 6.598194130925508\n",
            "std1 = 2.2421128833044155\n",
            "n1 = 886\n"
          ]
        }
      ]
    },
    {
      "cell_type": "code",
      "source": [
        "print('M2 = ' + str(pred_mean))\n",
        "print('std2 = ' + str(pred_std))\n",
        "print('n2 = ' + str(pred_n))"
      ],
      "metadata": {
        "colab": {
          "base_uri": "https://localhost:8080/"
        },
        "id": "Dpz_XQ1WPgPK",
        "outputId": "eea32fce-fa26-4c7c-86ea-2255589a4278"
      },
      "execution_count": 159,
      "outputs": [
        {
          "output_type": "stream",
          "name": "stdout",
          "text": [
            "M2 = 7.067936312370734\n",
            "std2 = 0.997941500744526\n",
            "n2 = 1644\n"
          ]
        }
      ]
    },
    {
      "cell_type": "markdown",
      "source": [
        "Выдвенем две гипотезы:\n",
        "- H0 - обе эти выборки были взяты из одной генеральной совокупности\n",
        "- H1 - выборки были взяты из разных генеральных совокупностей "
      ],
      "metadata": {
        "id": "24KYsAunP7r2"
      }
    },
    {
      "cell_type": "markdown",
      "source": [
        "Расчитаем t-критерий:"
      ],
      "metadata": {
        "id": "d4Lhc6sQQZe7"
      }
    },
    {
      "cell_type": "code",
      "source": [
        "t = (pred_mean - real_mean) / np.sqrt(real_std ** 2 / real_n + pred_std ** 2 / pred_n)\n",
        "t"
      ],
      "metadata": {
        "colab": {
          "base_uri": "https://localhost:8080/"
        },
        "id": "PzgR33-4QYCf",
        "outputId": "e7e0b939-5d1d-4035-9b98-453d30b53b06"
      },
      "execution_count": 162,
      "outputs": [
        {
          "output_type": "execute_result",
          "data": {
            "text/plain": [
              "mark    5.92777\n",
              "dtype: float64"
            ]
          },
          "metadata": {},
          "execution_count": 162
        }
      ]
    },
    {
      "cell_type": "markdown",
      "source": [
        "Расчитаем pvalue при полученном t-значении и количестве числа свобод n1 + n2 - 2 = 2528 \\\n",
        "Получили значение p-value < .00001 \\\n",
        "Делаем вывод, что простой градиентный бустинг, обученный на небольшом количестве данных, не смог приблизить рейтинг к оценкам из генеральной совокупности оценок, выставляемых проподавателями"
      ],
      "metadata": {
        "id": "ePRTpPkQSZde"
      }
    },
    {
      "cell_type": "markdown",
      "source": [
        "Также проверим наше изнчальное положение: рейтинг коррелирует с каждым из признаков \\\n"
      ],
      "metadata": {
        "id": "P2HRuoR1UnqT"
      }
    },
    {
      "cell_type": "markdown",
      "source": [
        "Для этого выдвеним две гипотезы:\n",
        "\n",
        " - H0 - различие между выборочным коэффициентом корреляции r и ρ = 0 незначимо \n",
        " - H1 - различие между r и p=0 значимо, и следовательно, между переменными имеется существенная связь. "
      ],
      "metadata": {
        "id": "6H0Xi3j8U4Jg"
      }
    },
    {
      "cell_type": "code",
      "source": [
        "from scipy.stats import spearmanr"
      ],
      "metadata": {
        "id": "F97eQmeu9jvE"
      },
      "execution_count": 163,
      "outputs": []
    },
    {
      "cell_type": "code",
      "source": [
        "print('additionsSum: ')\n",
        "print(\"Corr: \" + str(spearmanr(merge_df['additionsSum'], merge_df['rate'])[0]))\n",
        "print(\"Pvalue: \" + str(spearmanr(merge_df['additionsSum'], merge_df['rate'])[1]))"
      ],
      "metadata": {
        "colab": {
          "base_uri": "https://localhost:8080/"
        },
        "id": "b19VUcR1-sVL",
        "outputId": "01767991-c689-43ab-a821-ff7a4ea67253"
      },
      "execution_count": 164,
      "outputs": [
        {
          "output_type": "stream",
          "name": "stdout",
          "text": [
            "additionsSum: \n",
            "Corr: 0.38279826747296514\n",
            "Pvalue: 1.6344361972058408e-58\n"
          ]
        }
      ]
    },
    {
      "cell_type": "code",
      "source": [
        "print('additionsSum: ')\n",
        "print(\"Corr: \" + str(spearmanr(merge_df['deletionsSum'], merge_df['rate'])[0]))\n",
        "print(\"Pvalue: \" + str(spearmanr(merge_df['deletionsSum'], merge_df['rate'])[1]))"
      ],
      "metadata": {
        "colab": {
          "base_uri": "https://localhost:8080/"
        },
        "id": "zIY4NoXs_85G",
        "outputId": "2561520e-5cc0-4bce-cb7a-a4054ada7e16"
      },
      "execution_count": 165,
      "outputs": [
        {
          "output_type": "stream",
          "name": "stdout",
          "text": [
            "additionsSum: \n",
            "Corr: 0.4244265632970407\n",
            "Pvalue: 7.020901649451318e-73\n"
          ]
        }
      ]
    },
    {
      "cell_type": "code",
      "source": [
        "print('activeMonthCount: ')\n",
        "print(\"Corr: \" + str(spearmanr(merge_df['activeMonthCount'], merge_df['rate'])[0]))\n",
        "print(\"Pvalue: \" + str(spearmanr(merge_df['activeMonthCount'], merge_df['rate'])[1]))"
      ],
      "metadata": {
        "colab": {
          "base_uri": "https://localhost:8080/"
        },
        "id": "aVRDPgb7AGqG",
        "outputId": "4d127192-394c-4509-ac98-3ae656c4180a"
      },
      "execution_count": 166,
      "outputs": [
        {
          "output_type": "stream",
          "name": "stdout",
          "text": [
            "activeMonthCount: \n",
            "Corr: 0.5047094851726524\n",
            "Pvalue: 5.742198307789329e-107\n"
          ]
        }
      ]
    },
    {
      "cell_type": "markdown",
      "source": [
        "Можем заметить, что, действительно, для каждого признака значение p_value < 0.05. Следовательно мы отклоняем нулевую гипотезу"
      ],
      "metadata": {
        "id": "XDpDmTS4YQ9m"
      }
    },
    {
      "cell_type": "markdown",
      "source": [
        "Сопоставим значению рейтинга значения признаков и посмотрим на адекватность результатов\n"
      ],
      "metadata": {
        "id": "KDzsgk1PZKxj"
      }
    },
    {
      "cell_type": "code",
      "source": [
        "merge_df = pd.concat([df, pr.calculate_project_rate()], axis=1)\n",
        "merge_df.sort_values(by='rate', ascending=False).head(40)"
      ],
      "metadata": {
        "colab": {
          "base_uri": "https://localhost:8080/",
          "height": 1000
        },
        "id": "hT72LoJH461C",
        "outputId": "f7de6b62-97de-4144-cda9-c4abae8c1705"
      },
      "execution_count": 98,
      "outputs": [
        {
          "output_type": "execute_result",
          "data": {
            "text/plain": [
              "        id                                      namespaceName  \\\n",
              "1079  1596  234 Алгоритмы стеганографического встраивания ...   \n",
              "739    723   430 Мобильное приложение для определения шрифтов   \n",
              "1443  2301  864 Разработка стенда удаленной для работы с о...   \n",
              "888    905  347 Система удаленной экспертной поддержки с и...   \n",
              "1252  1827  218 Разработка глоссария физических терминов д...   \n",
              "171     46  313 Разработка программного обеспечения для из...   \n",
              "623    487  464 Встраивание невидимых цифровых водяных зна...   \n",
              "1328  1976   430 Мобильное приложение для определения шрифтов   \n",
              "645    519         19001 Веб-архив арктических экспедиций AVA   \n",
              "1092  1410  19105 Клиентская часть системы контроля и упра...   \n",
              "1285  1908  1024 Алгоритмы навигации мобильных роботов с у...   \n",
              "697    635  393 Разработка виртуального тура по общежитию ...   \n",
              "1138  1527         434 Электронный тензометр для такелажа яхт   \n",
              "799    825  1032 Система реидентификации человека по поход...   \n",
              "1408  2210  1023 Разработка программного комплекса для обя...   \n",
              "286     84  19289 Разработка площадки получения экспертных...   \n",
              "445     21  511 Разработка программной части системы управ...   \n",
              "350     25  543 Построение и изучение характеристик сегмен...   \n",
              "1256  1839         367 Виртуальный космос виртуальный спутник   \n",
              "1383  2101  1032 Система реидентификации человека по поход...   \n",
              "983   1079                        370 Сервисы цифрового МИЭМа   \n",
              "554    493  395 Прогнозирование динамики финансовых инстру...   \n",
              "1272  1872  218 Разработка глоссария физических терминов д...   \n",
              "1394  2123  1023 Разработка программного комплекса для обя...   \n",
              "415    446                                      553 AragavaIO   \n",
              "125      7  797 Масштабируемая система видеоконференций дл...   \n",
              "134    163  19467 Цифровая платформа для интеллектуального...   \n",
              "141    163  19467 Цифровая платформа для интеллектуального...   \n",
              "255    258       19489 Модель устройства контроля PH бассейна   \n",
              "1437  2271  859  Разработка универсальной ячейки стенда дл...   \n",
              "782    797  455 Создание графического интерфейса анализа б...   \n",
              "482    224  313 Разработка программного обеспечения для из...   \n",
              "1356  2045  1003 Программно аппаратный комплекс хронометра...   \n",
              "1110  1495  787 Разработка инструментария по созданию тепл...   \n",
              "139    163  19467 Цифровая платформа для интеллектуального...   \n",
              "136    163  19467 Цифровая платформа для интеллектуального...   \n",
              "849    863  338 Исследование информационных характеристик ...   \n",
              "725    693  223 Исследование применимости машинного обучен...   \n",
              "1300  1932  926 Создание математического ядра для имитацио...   \n",
              "906    933  314 Разработка программного обеспечения для из...   \n",
              "\n",
              "      activeMonthCount  additionsSum  deletionsSum      rate  percentile_rate  \\\n",
              "1079                 1          4649             1  9.940356         0.000000   \n",
              "739                  3        809413        415852  9.887175         0.060827   \n",
              "1443                 1             6             1  9.837175         0.121655   \n",
              "888                  3       2076810       1304502  9.808284         0.182482   \n",
              "1252                 3       1437832        495340  9.808284         0.182482   \n",
              "171                  3       1383346        791624  9.808284         0.182482   \n",
              "623                  3       1425156        561396  9.808284         0.182482   \n",
              "1328                 3       4000633        239016  9.808284         0.182482   \n",
              "645                  2       1249211             0  9.287331         0.486618   \n",
              "1092                 5        313768          4845  9.284842         0.547445   \n",
              "1285                 6        190080          3366  9.154982         0.608273   \n",
              "697                  1          7176             1  9.104187         0.669100   \n",
              "1138                 5          5471          3380  9.046461         0.729927   \n",
              "799                  2        576043             0  9.013389         0.790754   \n",
              "1408                 3         64942          8522  8.983163         0.851582   \n",
              "286                  3         72514          4851  8.977261         0.912409   \n",
              "445                  2       5713708        509074  8.973521         0.973236   \n",
              "350                  2       3628022       1171804  8.973521         0.973236   \n",
              "1256                 2         17003           234  8.967536         1.094891   \n",
              "1383                 1        602450        299678  8.965683         1.155718   \n",
              "983                  5          6195          2154  8.946750         1.216545   \n",
              "554                  1       2801817       2641703  8.920145         1.277372   \n",
              "1272                 1       2765817        273065  8.920145         1.277372   \n",
              "1394                 2          2466             0  8.905162         1.399027   \n",
              "415                  1             7             1  8.899366         1.459854   \n",
              "125                  1             7             1  8.899366         1.459854   \n",
              "134                  2         19207             0  8.882281         1.581509   \n",
              "141                  2         19207             0  8.882281         1.581509   \n",
              "255                  2             2             0  8.881467         1.703163   \n",
              "1437                 2             2             0  8.881467         1.703163   \n",
              "782                  2             2             0  8.881467         1.703163   \n",
              "482                  3        787358         83455  8.875717         1.885645   \n",
              "1356                 5          7434           867  8.868558         1.946472   \n",
              "1110                 3        209668       4133078  8.867602         2.007299   \n",
              "139                  1          7875             1  8.837089         2.068127   \n",
              "136                  1          7875             1  8.837089         2.068127   \n",
              "849                  2          8569             0  8.810518         2.189781   \n",
              "725                  2         11360             0  8.801234         2.250608   \n",
              "1300                 1          1058             1  8.797787         2.311436   \n",
              "906                  3       1442607         54411  8.789347         2.372263   \n",
              "\n",
              "      percentile_rank  \n",
              "1079              1.0  \n",
              "739               2.0  \n",
              "1443              3.0  \n",
              "888               4.0  \n",
              "1252              4.0  \n",
              "171               4.0  \n",
              "623               4.0  \n",
              "1328              4.0  \n",
              "645               9.0  \n",
              "1092             10.0  \n",
              "1285             11.0  \n",
              "697              12.0  \n",
              "1138             13.0  \n",
              "799              14.0  \n",
              "1408             15.0  \n",
              "286              16.0  \n",
              "445              17.0  \n",
              "350              17.0  \n",
              "1256             19.0  \n",
              "1383             20.0  \n",
              "983              21.0  \n",
              "554              22.0  \n",
              "1272             22.0  \n",
              "1394             24.0  \n",
              "415              25.0  \n",
              "125              25.0  \n",
              "134              27.0  \n",
              "141              27.0  \n",
              "255              29.0  \n",
              "1437             29.0  \n",
              "782              29.0  \n",
              "482              32.0  \n",
              "1356             33.0  \n",
              "1110             34.0  \n",
              "139              35.0  \n",
              "136              35.0  \n",
              "849              37.0  \n",
              "725              38.0  \n",
              "1300             39.0  \n",
              "906              40.0  "
            ],
            "text/html": [
              "\n",
              "  <div id=\"df-9e086d29-d071-4e63-9537-b5e1badeddb9\">\n",
              "    <div class=\"colab-df-container\">\n",
              "      <div>\n",
              "<style scoped>\n",
              "    .dataframe tbody tr th:only-of-type {\n",
              "        vertical-align: middle;\n",
              "    }\n",
              "\n",
              "    .dataframe tbody tr th {\n",
              "        vertical-align: top;\n",
              "    }\n",
              "\n",
              "    .dataframe thead th {\n",
              "        text-align: right;\n",
              "    }\n",
              "</style>\n",
              "<table border=\"1\" class=\"dataframe\">\n",
              "  <thead>\n",
              "    <tr style=\"text-align: right;\">\n",
              "      <th></th>\n",
              "      <th>id</th>\n",
              "      <th>namespaceName</th>\n",
              "      <th>activeMonthCount</th>\n",
              "      <th>additionsSum</th>\n",
              "      <th>deletionsSum</th>\n",
              "      <th>rate</th>\n",
              "      <th>percentile_rate</th>\n",
              "      <th>percentile_rank</th>\n",
              "    </tr>\n",
              "  </thead>\n",
              "  <tbody>\n",
              "    <tr>\n",
              "      <th>1079</th>\n",
              "      <td>1596</td>\n",
              "      <td>234 Алгоритмы стеганографического встраивания ...</td>\n",
              "      <td>1</td>\n",
              "      <td>4649</td>\n",
              "      <td>1</td>\n",
              "      <td>9.940356</td>\n",
              "      <td>0.000000</td>\n",
              "      <td>1.0</td>\n",
              "    </tr>\n",
              "    <tr>\n",
              "      <th>739</th>\n",
              "      <td>723</td>\n",
              "      <td>430 Мобильное приложение для определения шрифтов</td>\n",
              "      <td>3</td>\n",
              "      <td>809413</td>\n",
              "      <td>415852</td>\n",
              "      <td>9.887175</td>\n",
              "      <td>0.060827</td>\n",
              "      <td>2.0</td>\n",
              "    </tr>\n",
              "    <tr>\n",
              "      <th>1443</th>\n",
              "      <td>2301</td>\n",
              "      <td>864 Разработка стенда удаленной для работы с о...</td>\n",
              "      <td>1</td>\n",
              "      <td>6</td>\n",
              "      <td>1</td>\n",
              "      <td>9.837175</td>\n",
              "      <td>0.121655</td>\n",
              "      <td>3.0</td>\n",
              "    </tr>\n",
              "    <tr>\n",
              "      <th>888</th>\n",
              "      <td>905</td>\n",
              "      <td>347 Система удаленной экспертной поддержки с и...</td>\n",
              "      <td>3</td>\n",
              "      <td>2076810</td>\n",
              "      <td>1304502</td>\n",
              "      <td>9.808284</td>\n",
              "      <td>0.182482</td>\n",
              "      <td>4.0</td>\n",
              "    </tr>\n",
              "    <tr>\n",
              "      <th>1252</th>\n",
              "      <td>1827</td>\n",
              "      <td>218 Разработка глоссария физических терминов д...</td>\n",
              "      <td>3</td>\n",
              "      <td>1437832</td>\n",
              "      <td>495340</td>\n",
              "      <td>9.808284</td>\n",
              "      <td>0.182482</td>\n",
              "      <td>4.0</td>\n",
              "    </tr>\n",
              "    <tr>\n",
              "      <th>171</th>\n",
              "      <td>46</td>\n",
              "      <td>313 Разработка программного обеспечения для из...</td>\n",
              "      <td>3</td>\n",
              "      <td>1383346</td>\n",
              "      <td>791624</td>\n",
              "      <td>9.808284</td>\n",
              "      <td>0.182482</td>\n",
              "      <td>4.0</td>\n",
              "    </tr>\n",
              "    <tr>\n",
              "      <th>623</th>\n",
              "      <td>487</td>\n",
              "      <td>464 Встраивание невидимых цифровых водяных зна...</td>\n",
              "      <td>3</td>\n",
              "      <td>1425156</td>\n",
              "      <td>561396</td>\n",
              "      <td>9.808284</td>\n",
              "      <td>0.182482</td>\n",
              "      <td>4.0</td>\n",
              "    </tr>\n",
              "    <tr>\n",
              "      <th>1328</th>\n",
              "      <td>1976</td>\n",
              "      <td>430 Мобильное приложение для определения шрифтов</td>\n",
              "      <td>3</td>\n",
              "      <td>4000633</td>\n",
              "      <td>239016</td>\n",
              "      <td>9.808284</td>\n",
              "      <td>0.182482</td>\n",
              "      <td>4.0</td>\n",
              "    </tr>\n",
              "    <tr>\n",
              "      <th>645</th>\n",
              "      <td>519</td>\n",
              "      <td>19001 Веб-архив арктических экспедиций AVA</td>\n",
              "      <td>2</td>\n",
              "      <td>1249211</td>\n",
              "      <td>0</td>\n",
              "      <td>9.287331</td>\n",
              "      <td>0.486618</td>\n",
              "      <td>9.0</td>\n",
              "    </tr>\n",
              "    <tr>\n",
              "      <th>1092</th>\n",
              "      <td>1410</td>\n",
              "      <td>19105 Клиентская часть системы контроля и упра...</td>\n",
              "      <td>5</td>\n",
              "      <td>313768</td>\n",
              "      <td>4845</td>\n",
              "      <td>9.284842</td>\n",
              "      <td>0.547445</td>\n",
              "      <td>10.0</td>\n",
              "    </tr>\n",
              "    <tr>\n",
              "      <th>1285</th>\n",
              "      <td>1908</td>\n",
              "      <td>1024 Алгоритмы навигации мобильных роботов с у...</td>\n",
              "      <td>6</td>\n",
              "      <td>190080</td>\n",
              "      <td>3366</td>\n",
              "      <td>9.154982</td>\n",
              "      <td>0.608273</td>\n",
              "      <td>11.0</td>\n",
              "    </tr>\n",
              "    <tr>\n",
              "      <th>697</th>\n",
              "      <td>635</td>\n",
              "      <td>393 Разработка виртуального тура по общежитию ...</td>\n",
              "      <td>1</td>\n",
              "      <td>7176</td>\n",
              "      <td>1</td>\n",
              "      <td>9.104187</td>\n",
              "      <td>0.669100</td>\n",
              "      <td>12.0</td>\n",
              "    </tr>\n",
              "    <tr>\n",
              "      <th>1138</th>\n",
              "      <td>1527</td>\n",
              "      <td>434 Электронный тензометр для такелажа яхт</td>\n",
              "      <td>5</td>\n",
              "      <td>5471</td>\n",
              "      <td>3380</td>\n",
              "      <td>9.046461</td>\n",
              "      <td>0.729927</td>\n",
              "      <td>13.0</td>\n",
              "    </tr>\n",
              "    <tr>\n",
              "      <th>799</th>\n",
              "      <td>825</td>\n",
              "      <td>1032 Система реидентификации человека по поход...</td>\n",
              "      <td>2</td>\n",
              "      <td>576043</td>\n",
              "      <td>0</td>\n",
              "      <td>9.013389</td>\n",
              "      <td>0.790754</td>\n",
              "      <td>14.0</td>\n",
              "    </tr>\n",
              "    <tr>\n",
              "      <th>1408</th>\n",
              "      <td>2210</td>\n",
              "      <td>1023 Разработка программного комплекса для обя...</td>\n",
              "      <td>3</td>\n",
              "      <td>64942</td>\n",
              "      <td>8522</td>\n",
              "      <td>8.983163</td>\n",
              "      <td>0.851582</td>\n",
              "      <td>15.0</td>\n",
              "    </tr>\n",
              "    <tr>\n",
              "      <th>286</th>\n",
              "      <td>84</td>\n",
              "      <td>19289 Разработка площадки получения экспертных...</td>\n",
              "      <td>3</td>\n",
              "      <td>72514</td>\n",
              "      <td>4851</td>\n",
              "      <td>8.977261</td>\n",
              "      <td>0.912409</td>\n",
              "      <td>16.0</td>\n",
              "    </tr>\n",
              "    <tr>\n",
              "      <th>445</th>\n",
              "      <td>21</td>\n",
              "      <td>511 Разработка программной части системы управ...</td>\n",
              "      <td>2</td>\n",
              "      <td>5713708</td>\n",
              "      <td>509074</td>\n",
              "      <td>8.973521</td>\n",
              "      <td>0.973236</td>\n",
              "      <td>17.0</td>\n",
              "    </tr>\n",
              "    <tr>\n",
              "      <th>350</th>\n",
              "      <td>25</td>\n",
              "      <td>543 Построение и изучение характеристик сегмен...</td>\n",
              "      <td>2</td>\n",
              "      <td>3628022</td>\n",
              "      <td>1171804</td>\n",
              "      <td>8.973521</td>\n",
              "      <td>0.973236</td>\n",
              "      <td>17.0</td>\n",
              "    </tr>\n",
              "    <tr>\n",
              "      <th>1256</th>\n",
              "      <td>1839</td>\n",
              "      <td>367 Виртуальный космос виртуальный спутник</td>\n",
              "      <td>2</td>\n",
              "      <td>17003</td>\n",
              "      <td>234</td>\n",
              "      <td>8.967536</td>\n",
              "      <td>1.094891</td>\n",
              "      <td>19.0</td>\n",
              "    </tr>\n",
              "    <tr>\n",
              "      <th>1383</th>\n",
              "      <td>2101</td>\n",
              "      <td>1032 Система реидентификации человека по поход...</td>\n",
              "      <td>1</td>\n",
              "      <td>602450</td>\n",
              "      <td>299678</td>\n",
              "      <td>8.965683</td>\n",
              "      <td>1.155718</td>\n",
              "      <td>20.0</td>\n",
              "    </tr>\n",
              "    <tr>\n",
              "      <th>983</th>\n",
              "      <td>1079</td>\n",
              "      <td>370 Сервисы цифрового МИЭМа</td>\n",
              "      <td>5</td>\n",
              "      <td>6195</td>\n",
              "      <td>2154</td>\n",
              "      <td>8.946750</td>\n",
              "      <td>1.216545</td>\n",
              "      <td>21.0</td>\n",
              "    </tr>\n",
              "    <tr>\n",
              "      <th>554</th>\n",
              "      <td>493</td>\n",
              "      <td>395 Прогнозирование динамики финансовых инстру...</td>\n",
              "      <td>1</td>\n",
              "      <td>2801817</td>\n",
              "      <td>2641703</td>\n",
              "      <td>8.920145</td>\n",
              "      <td>1.277372</td>\n",
              "      <td>22.0</td>\n",
              "    </tr>\n",
              "    <tr>\n",
              "      <th>1272</th>\n",
              "      <td>1872</td>\n",
              "      <td>218 Разработка глоссария физических терминов д...</td>\n",
              "      <td>1</td>\n",
              "      <td>2765817</td>\n",
              "      <td>273065</td>\n",
              "      <td>8.920145</td>\n",
              "      <td>1.277372</td>\n",
              "      <td>22.0</td>\n",
              "    </tr>\n",
              "    <tr>\n",
              "      <th>1394</th>\n",
              "      <td>2123</td>\n",
              "      <td>1023 Разработка программного комплекса для обя...</td>\n",
              "      <td>2</td>\n",
              "      <td>2466</td>\n",
              "      <td>0</td>\n",
              "      <td>8.905162</td>\n",
              "      <td>1.399027</td>\n",
              "      <td>24.0</td>\n",
              "    </tr>\n",
              "    <tr>\n",
              "      <th>415</th>\n",
              "      <td>446</td>\n",
              "      <td>553 AragavaIO</td>\n",
              "      <td>1</td>\n",
              "      <td>7</td>\n",
              "      <td>1</td>\n",
              "      <td>8.899366</td>\n",
              "      <td>1.459854</td>\n",
              "      <td>25.0</td>\n",
              "    </tr>\n",
              "    <tr>\n",
              "      <th>125</th>\n",
              "      <td>7</td>\n",
              "      <td>797 Масштабируемая система видеоконференций дл...</td>\n",
              "      <td>1</td>\n",
              "      <td>7</td>\n",
              "      <td>1</td>\n",
              "      <td>8.899366</td>\n",
              "      <td>1.459854</td>\n",
              "      <td>25.0</td>\n",
              "    </tr>\n",
              "    <tr>\n",
              "      <th>134</th>\n",
              "      <td>163</td>\n",
              "      <td>19467 Цифровая платформа для интеллектуального...</td>\n",
              "      <td>2</td>\n",
              "      <td>19207</td>\n",
              "      <td>0</td>\n",
              "      <td>8.882281</td>\n",
              "      <td>1.581509</td>\n",
              "      <td>27.0</td>\n",
              "    </tr>\n",
              "    <tr>\n",
              "      <th>141</th>\n",
              "      <td>163</td>\n",
              "      <td>19467 Цифровая платформа для интеллектуального...</td>\n",
              "      <td>2</td>\n",
              "      <td>19207</td>\n",
              "      <td>0</td>\n",
              "      <td>8.882281</td>\n",
              "      <td>1.581509</td>\n",
              "      <td>27.0</td>\n",
              "    </tr>\n",
              "    <tr>\n",
              "      <th>255</th>\n",
              "      <td>258</td>\n",
              "      <td>19489 Модель устройства контроля PH бассейна</td>\n",
              "      <td>2</td>\n",
              "      <td>2</td>\n",
              "      <td>0</td>\n",
              "      <td>8.881467</td>\n",
              "      <td>1.703163</td>\n",
              "      <td>29.0</td>\n",
              "    </tr>\n",
              "    <tr>\n",
              "      <th>1437</th>\n",
              "      <td>2271</td>\n",
              "      <td>859  Разработка универсальной ячейки стенда дл...</td>\n",
              "      <td>2</td>\n",
              "      <td>2</td>\n",
              "      <td>0</td>\n",
              "      <td>8.881467</td>\n",
              "      <td>1.703163</td>\n",
              "      <td>29.0</td>\n",
              "    </tr>\n",
              "    <tr>\n",
              "      <th>782</th>\n",
              "      <td>797</td>\n",
              "      <td>455 Создание графического интерфейса анализа б...</td>\n",
              "      <td>2</td>\n",
              "      <td>2</td>\n",
              "      <td>0</td>\n",
              "      <td>8.881467</td>\n",
              "      <td>1.703163</td>\n",
              "      <td>29.0</td>\n",
              "    </tr>\n",
              "    <tr>\n",
              "      <th>482</th>\n",
              "      <td>224</td>\n",
              "      <td>313 Разработка программного обеспечения для из...</td>\n",
              "      <td>3</td>\n",
              "      <td>787358</td>\n",
              "      <td>83455</td>\n",
              "      <td>8.875717</td>\n",
              "      <td>1.885645</td>\n",
              "      <td>32.0</td>\n",
              "    </tr>\n",
              "    <tr>\n",
              "      <th>1356</th>\n",
              "      <td>2045</td>\n",
              "      <td>1003 Программно аппаратный комплекс хронометра...</td>\n",
              "      <td>5</td>\n",
              "      <td>7434</td>\n",
              "      <td>867</td>\n",
              "      <td>8.868558</td>\n",
              "      <td>1.946472</td>\n",
              "      <td>33.0</td>\n",
              "    </tr>\n",
              "    <tr>\n",
              "      <th>1110</th>\n",
              "      <td>1495</td>\n",
              "      <td>787 Разработка инструментария по созданию тепл...</td>\n",
              "      <td>3</td>\n",
              "      <td>209668</td>\n",
              "      <td>4133078</td>\n",
              "      <td>8.867602</td>\n",
              "      <td>2.007299</td>\n",
              "      <td>34.0</td>\n",
              "    </tr>\n",
              "    <tr>\n",
              "      <th>139</th>\n",
              "      <td>163</td>\n",
              "      <td>19467 Цифровая платформа для интеллектуального...</td>\n",
              "      <td>1</td>\n",
              "      <td>7875</td>\n",
              "      <td>1</td>\n",
              "      <td>8.837089</td>\n",
              "      <td>2.068127</td>\n",
              "      <td>35.0</td>\n",
              "    </tr>\n",
              "    <tr>\n",
              "      <th>136</th>\n",
              "      <td>163</td>\n",
              "      <td>19467 Цифровая платформа для интеллектуального...</td>\n",
              "      <td>1</td>\n",
              "      <td>7875</td>\n",
              "      <td>1</td>\n",
              "      <td>8.837089</td>\n",
              "      <td>2.068127</td>\n",
              "      <td>35.0</td>\n",
              "    </tr>\n",
              "    <tr>\n",
              "      <th>849</th>\n",
              "      <td>863</td>\n",
              "      <td>338 Исследование информационных характеристик ...</td>\n",
              "      <td>2</td>\n",
              "      <td>8569</td>\n",
              "      <td>0</td>\n",
              "      <td>8.810518</td>\n",
              "      <td>2.189781</td>\n",
              "      <td>37.0</td>\n",
              "    </tr>\n",
              "    <tr>\n",
              "      <th>725</th>\n",
              "      <td>693</td>\n",
              "      <td>223 Исследование применимости машинного обучен...</td>\n",
              "      <td>2</td>\n",
              "      <td>11360</td>\n",
              "      <td>0</td>\n",
              "      <td>8.801234</td>\n",
              "      <td>2.250608</td>\n",
              "      <td>38.0</td>\n",
              "    </tr>\n",
              "    <tr>\n",
              "      <th>1300</th>\n",
              "      <td>1932</td>\n",
              "      <td>926 Создание математического ядра для имитацио...</td>\n",
              "      <td>1</td>\n",
              "      <td>1058</td>\n",
              "      <td>1</td>\n",
              "      <td>8.797787</td>\n",
              "      <td>2.311436</td>\n",
              "      <td>39.0</td>\n",
              "    </tr>\n",
              "    <tr>\n",
              "      <th>906</th>\n",
              "      <td>933</td>\n",
              "      <td>314 Разработка программного обеспечения для из...</td>\n",
              "      <td>3</td>\n",
              "      <td>1442607</td>\n",
              "      <td>54411</td>\n",
              "      <td>8.789347</td>\n",
              "      <td>2.372263</td>\n",
              "      <td>40.0</td>\n",
              "    </tr>\n",
              "  </tbody>\n",
              "</table>\n",
              "</div>\n",
              "      <button class=\"colab-df-convert\" onclick=\"convertToInteractive('df-9e086d29-d071-4e63-9537-b5e1badeddb9')\"\n",
              "              title=\"Convert this dataframe to an interactive table.\"\n",
              "              style=\"display:none;\">\n",
              "        \n",
              "  <svg xmlns=\"http://www.w3.org/2000/svg\" height=\"24px\"viewBox=\"0 0 24 24\"\n",
              "       width=\"24px\">\n",
              "    <path d=\"M0 0h24v24H0V0z\" fill=\"none\"/>\n",
              "    <path d=\"M18.56 5.44l.94 2.06.94-2.06 2.06-.94-2.06-.94-.94-2.06-.94 2.06-2.06.94zm-11 1L8.5 8.5l.94-2.06 2.06-.94-2.06-.94L8.5 2.5l-.94 2.06-2.06.94zm10 10l.94 2.06.94-2.06 2.06-.94-2.06-.94-.94-2.06-.94 2.06-2.06.94z\"/><path d=\"M17.41 7.96l-1.37-1.37c-.4-.4-.92-.59-1.43-.59-.52 0-1.04.2-1.43.59L10.3 9.45l-7.72 7.72c-.78.78-.78 2.05 0 2.83L4 21.41c.39.39.9.59 1.41.59.51 0 1.02-.2 1.41-.59l7.78-7.78 2.81-2.81c.8-.78.8-2.07 0-2.86zM5.41 20L4 18.59l7.72-7.72 1.47 1.35L5.41 20z\"/>\n",
              "  </svg>\n",
              "      </button>\n",
              "      \n",
              "  <style>\n",
              "    .colab-df-container {\n",
              "      display:flex;\n",
              "      flex-wrap:wrap;\n",
              "      gap: 12px;\n",
              "    }\n",
              "\n",
              "    .colab-df-convert {\n",
              "      background-color: #E8F0FE;\n",
              "      border: none;\n",
              "      border-radius: 50%;\n",
              "      cursor: pointer;\n",
              "      display: none;\n",
              "      fill: #1967D2;\n",
              "      height: 32px;\n",
              "      padding: 0 0 0 0;\n",
              "      width: 32px;\n",
              "    }\n",
              "\n",
              "    .colab-df-convert:hover {\n",
              "      background-color: #E2EBFA;\n",
              "      box-shadow: 0px 1px 2px rgba(60, 64, 67, 0.3), 0px 1px 3px 1px rgba(60, 64, 67, 0.15);\n",
              "      fill: #174EA6;\n",
              "    }\n",
              "\n",
              "    [theme=dark] .colab-df-convert {\n",
              "      background-color: #3B4455;\n",
              "      fill: #D2E3FC;\n",
              "    }\n",
              "\n",
              "    [theme=dark] .colab-df-convert:hover {\n",
              "      background-color: #434B5C;\n",
              "      box-shadow: 0px 1px 3px 1px rgba(0, 0, 0, 0.15);\n",
              "      filter: drop-shadow(0px 1px 2px rgba(0, 0, 0, 0.3));\n",
              "      fill: #FFFFFF;\n",
              "    }\n",
              "  </style>\n",
              "\n",
              "      <script>\n",
              "        const buttonEl =\n",
              "          document.querySelector('#df-9e086d29-d071-4e63-9537-b5e1badeddb9 button.colab-df-convert');\n",
              "        buttonEl.style.display =\n",
              "          google.colab.kernel.accessAllowed ? 'block' : 'none';\n",
              "\n",
              "        async function convertToInteractive(key) {\n",
              "          const element = document.querySelector('#df-9e086d29-d071-4e63-9537-b5e1badeddb9');\n",
              "          const dataTable =\n",
              "            await google.colab.kernel.invokeFunction('convertToInteractive',\n",
              "                                                     [key], {});\n",
              "          if (!dataTable) return;\n",
              "\n",
              "          const docLinkHtml = 'Like what you see? Visit the ' +\n",
              "            '<a target=\"_blank\" href=https://colab.research.google.com/notebooks/data_table.ipynb>data table notebook</a>'\n",
              "            + ' to learn more about interactive tables.';\n",
              "          element.innerHTML = '';\n",
              "          dataTable['output_type'] = 'display_data';\n",
              "          await google.colab.output.renderOutput(dataTable, element);\n",
              "          const docLink = document.createElement('div');\n",
              "          docLink.innerHTML = docLinkHtml;\n",
              "          element.appendChild(docLink);\n",
              "        }\n",
              "      </script>\n",
              "    </div>\n",
              "  </div>\n",
              "  "
            ]
          },
          "metadata": {},
          "execution_count": 98
        }
      ]
    },
    {
      "cell_type": "markdown",
      "source": [
        "Как можем заметить, модель периодически предсказывает слишком высокий рейтинг для низких значений признаков. Вероятнее всего это произошло из-за небольшого количества данных на обучении и поэтому, плоскость разделилась не совсем удачно. Помимо этого мы не сможем проинтерпретировать то, как модель принимает решение. Из-за этого придется отказаться от использования этой модели и сделать выбор в пользу линейной регрессии"
      ],
      "metadata": {
        "id": "ZsJLtWI0abHk"
      }
    }
  ]
}